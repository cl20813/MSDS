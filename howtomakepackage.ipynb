{
 "cells": [
  {
   "cell_type": "code",
   "execution_count": 1,
   "metadata": {},
   "outputs": [],
   "source": [
    "import sys # jl2815"
   ]
  },
  {
   "cell_type": "markdown",
   "metadata": {},
   "source": [
    " Basic condition:   \n",
    "\n",
    " under TCO folder   \n",
    "\n",
    " 1. setup.py exists for GEMS_TCO   \n",
    " 2. GEMS_TCO directory exists.   \n",
    "\n",
    " Under GEMS_TCO,   \n",
    "\n",
    " 1. __init__.py exists even if it is empty.    "
   ]
  },
  {
   "cell_type": "markdown",
   "metadata": {},
   "source": [
    "Check current environment python path using sys.path\n",
    "\n",
    "and system python path using \n",
    "\n",
    "where python in command prompt"
   ]
  },
  {
   "cell_type": "code",
   "execution_count": 3,
   "metadata": {},
   "outputs": [
    {
     "data": {
      "text/plain": [
       "['c:\\\\Users\\\\joonw\\\\AppData\\\\Local\\\\Programs\\\\Microsoft VS Code',\n",
       " 'c:\\\\Users\\\\joonw\\\\anaconda3\\\\envs\\\\jl2815\\\\python312.zip',\n",
       " 'c:\\\\Users\\\\joonw\\\\anaconda3\\\\envs\\\\jl2815\\\\DLLs',\n",
       " 'c:\\\\Users\\\\joonw\\\\anaconda3\\\\envs\\\\jl2815\\\\Lib',\n",
       " 'c:\\\\Users\\\\joonw\\\\anaconda3\\\\envs\\\\jl2815',\n",
       " '',\n",
       " 'c:\\\\Users\\\\joonw\\\\anaconda3\\\\envs\\\\jl2815\\\\Lib\\\\site-packages',\n",
       " 'c:\\\\Users\\\\joonw\\\\anaconda3\\\\envs\\\\jl2815\\\\Lib\\\\site-packages\\\\win32',\n",
       " 'c:\\\\Users\\\\joonw\\\\anaconda3\\\\envs\\\\jl2815\\\\Lib\\\\site-packages\\\\win32\\\\lib',\n",
       " 'c:\\\\Users\\\\joonw\\\\anaconda3\\\\envs\\\\jl2815\\\\Lib\\\\site-packages\\\\Pythonwin']"
      ]
     },
     "execution_count": 3,
     "metadata": {},
     "output_type": "execute_result"
    }
   ],
   "source": [
    "sys.path"
   ]
  },
  {
   "cell_type": "markdown",
   "metadata": {},
   "source": [
    "where python gives:\n",
    "\n",
    "C:\\Users\\joonw\\AppData\\Local\\Programs\\Python\\Python312\\python.exe\n",
    "\n",
    "So it looks like I have two different paths. \n",
    "\n",
    "If I tried to install GEMS_TCO by\n",
    "!pip install GEMS_TCO\n",
    "\n",
    "it might install GEMS_TCO under\n",
    "\n",
    "'c:\\\\Users\\\\joonw\\\\anaconda3\\\\Lib\\\\site-packages'\n",
    "\n",
    "not\n",
    "\n",
    "'c:\\\\Users\\\\joonw\\\\anaconda3\\\\envs\\\\jl2815\\\\Lib\\\\site-packages'"
   ]
  },
  {
   "cell_type": "code",
   "execution_count": null,
   "metadata": {},
   "outputs": [],
   "source": [
    "# Proper way:\n",
    "\n",
    "Open the anaconda command prompt because environment 'jl2815' is under there\n",
    "\n",
    "cd c:\\\\Users\\\\joonw\\\\TCO\n",
    "pip install .      \n",
    "\n",
    "# for this code to work, there has to be setup.py in TCO, and GEMS_TCO file must be at the same level, in TCO.   "
   ]
  },
  {
   "cell_type": "markdown",
   "metadata": {},
   "source": []
  }
 ],
 "metadata": {
  "kernelspec": {
   "display_name": "jl2815",
   "language": "python",
   "name": "python3"
  },
  "language_info": {
   "codemirror_mode": {
    "name": "ipython",
    "version": 3
   },
   "file_extension": ".py",
   "mimetype": "text/x-python",
   "name": "python",
   "nbconvert_exporter": "python",
   "pygments_lexer": "ipython3",
   "version": "3.12.2"
  }
 },
 "nbformat": 4,
 "nbformat_minor": 2
}
